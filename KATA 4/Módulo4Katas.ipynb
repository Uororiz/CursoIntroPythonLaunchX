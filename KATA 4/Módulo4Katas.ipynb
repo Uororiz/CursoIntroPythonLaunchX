{
 "cells": [
  {
   "cell_type": "markdown",
   "metadata": {},
   "source": [
    "# Ejercicio 1: Transformar cadenas\n"
   ]
  },
  {
   "cell_type": "code",
   "execution_count": 5,
   "metadata": {},
   "outputs": [
    {
     "name": "stdout",
     "output_type": "stream",
     "text": [
      "Interesting facts about the Moon. The Moon is Earth's only satellite. There are several interesting facts about the Moon and how it affects life here on Earth. On average, the Moon moves 4cm away from the Earth every year. This yearly drift is not significant enough to cause immediate effects on Earth. The highest daylight temperature of the Moon is 127 C.\n"
     ]
    }
   ],
   "source": [
    "text = \"\"\"Interesting facts about the Moon. The Moon is Earth's only satellite. There are several interesting facts about the Moon and how it affects life here on Earth. On average, the Moon moves 4cm away from the Earth every year. This yearly drift is not significant enough to cause immediate effects on Earth. The highest daylight temperature of the Moon is 127 C.\"\"\"\n",
    "\n",
    "print(text)\n"
   ]
  },
  {
   "cell_type": "markdown",
   "metadata": {},
   "source": [
    "Primero, divide el texto en cada oración para trabajar con su contenido:\n"
   ]
  },
  {
   "cell_type": "code",
   "execution_count": 6,
   "metadata": {},
   "outputs": [
    {
     "name": "stdout",
     "output_type": "stream",
     "text": [
      "['Interesting facts about the Moon', \"The Moon is Earth's only satellite\", 'There are several interesting facts about the Moon and how it affects life here on Earth', 'On average, the Moon moves 4cm away from the Earth every year', 'This yearly drift is not significant enough to cause immediate effects on Earth', 'The highest daylight temperature of the Moon is 127 C.']\n"
     ]
    }
   ],
   "source": [
    "textSeparado = text.split('. ')\n",
    "print(textSeparado)\n"
   ]
  },
  {
   "cell_type": "code",
   "execution_count": 10,
   "metadata": {},
   "outputs": [
    {
     "name": "stdout",
     "output_type": "stream",
     "text": [
      "Oración: The Moon is Earth's only satellite\n",
      "Pista: Earth\n",
      "Oración: There are several interesting facts about the Moon and how it affects life here on Earth\n",
      "Pista: Earth\n",
      "Oración: On average, the Moon moves 4cm away from the Earth every year\n",
      "Pista: average\n",
      "Oración: On average, the Moon moves 4cm away from the Earth every year\n",
      "Pista: Earth\n",
      "Oración: This yearly drift is not significant enough to cause immediate effects on Earth\n",
      "Pista: Earth\n",
      "Oración: The highest daylight temperature of the Moon is 127 C.\n",
      "Pista: temperature\n"
     ]
    }
   ],
   "source": [
    "palabrasBusqueda = ['average', 'temperature', 'distance', 'Earth']\n",
    "\n",
    "for oracion in textSeparado:\n",
    "    for pista in palabrasBusqueda:\n",
    "        if oracion.find(pista) >= 0:\n",
    "            print('Oración: ' + oracion + '\\nPista: ' + pista)\n"
   ]
  },
  {
   "cell_type": "markdown",
   "metadata": {},
   "source": [
    "## Ejercicio 2: Formateando Cadenas\n"
   ]
  },
  {
   "cell_type": "code",
   "execution_count": 20,
   "metadata": {},
   "outputs": [
    {
     "name": "stdout",
     "output_type": "stream",
     "text": [
      "            Gravity Facts About Moon\n",
      "            --------------------------------------------------\n",
      "            Planet Name: Earth\n",
      "            Gravity on Moon: 1.6199999999999999 m/s2 \n",
      "\n",
      "Verificación con nuevas variables: \n",
      "            Gravity Facts About Moon\n",
      "            --------------------------------------------------\n",
      "            Planet Name: Earth\n",
      "            Gravity on Moon: 1.6199999999999999 m/s2 \n",
      "\n",
      "Verificación con nueva plantilla: \n",
      "            Gravity Facts About Ganímedes\n",
      "            --------------------------------------------------\n",
      "            Planet Name: Marte \n",
      "            Gravity on Ganímedes: 1.4300000000000002 m/s2\n",
      "\n"
     ]
    }
   ],
   "source": [
    "# Datos con los que vas a trabajar\n",
    "nombre = \"Moon\"\n",
    "gravedad = 0.00162 # in kms\n",
    "planeta = \"Earth\"\n",
    "titulo = f\"gravity facts about {nombre}\".title()\n",
    "plantilla = f\"\"\"            {titulo}\n",
    "            {'-' * 50}\n",
    "            Planet Name: {planeta}\n",
    "            Gravity on {nombre}: {gravedad * 1000} m/s2 \\n\"\"\"\n",
    "print(plantilla)\n",
    "\n",
    "planeta = 'Marte '\n",
    "gravedad  = 0.00143\n",
    "nombre = 'Ganímedes'\n",
    "\n",
    "print('Verificación con nuevas variables: \\n' + plantilla)\n",
    "\n",
    "numeroLinea = '-'\n",
    "plantillaNueva = \"\"\"            Gravity Facts About {nombre}\n",
    "            {numeroLinea}\n",
    "            Planet Name: {planeta}\n",
    "            Gravity on {nombre}: {gravedad} m/s2\\n\"\"\"\n",
    "print('Verificación con nueva plantilla: \\n' + plantillaNueva.format(nombre=nombre, numeroLinea=numeroLinea*50, planeta=planeta, gravedad=gravedad*1000))\n",
    "\n"
   ]
  }
 ],
 "metadata": {
  "interpreter": {
   "hash": "d828d267c7fdd835aaf01850e08fc97446a0d50b40bccd2ae384116f9f23e7ae"
  },
  "kernelspec": {
   "display_name": "Python 3.10.2 64-bit (windows store)",
   "language": "python",
   "name": "python3"
  },
  "language_info": {
   "codemirror_mode": {
    "name": "ipython",
    "version": 3
   },
   "file_extension": ".py",
   "mimetype": "text/x-python",
   "name": "python",
   "nbconvert_exporter": "python",
   "pygments_lexer": "ipython3",
   "version": "3.10.2"
  },
  "orig_nbformat": 4
 },
 "nbformat": 4,
 "nbformat_minor": 2
}
