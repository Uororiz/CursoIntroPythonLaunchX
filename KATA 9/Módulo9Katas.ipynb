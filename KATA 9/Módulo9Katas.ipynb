{
 "cells": [
  {
   "cell_type": "markdown",
   "metadata": {},
   "source": [
    "# Ejercicio: Uso de funciones en Python"
   ]
  },
  {
   "cell_type": "code",
   "execution_count": 9,
   "metadata": {},
   "outputs": [
    {
     "name": "stdout",
     "output_type": "stream",
     "text": [
      "\n",
      "    Informe de combustible:\n",
      "    Primer tanque: 50\n",
      "    Segundo tanque: 20\n",
      "    Tercer tanque: 30 \n",
      "    Promedio: 33.33\n",
      "    \n",
      "\n",
      "    Informe actualizado de combustible:\n",
      "    Primer tanque: 30\n",
      "    Segundo tanque: 20\n",
      "    Tercer tanque: 50 \n",
      "    Promedio: 33.33\n",
      "    \n"
     ]
    }
   ],
   "source": [
    "# Función para leer 3 tanques de combustible y muestre el promedio\n",
    "\n",
    "def informe_combustible(combustible_uno, combustible_dos, combustible_tres):\n",
    "    promedio = round((combustible_uno + combustible_dos + combustible_tres) / 3, 2)\n",
    "    return f\"\"\"\n",
    "    Informe de combustible:\n",
    "    Primer tanque: {combustible_uno}\n",
    "    Segundo tanque: {combustible_dos}\n",
    "    Tercer tanque: {combustible_tres} \n",
    "    Promedio: {promedio}\n",
    "    \"\"\"\n",
    "# Llamamos a la función que genera el reporte print(funcion(tanque1, tanque2, tanque3))\n",
    "print(informe_combustible(50, 20, 30))\n",
    "\n",
    "# Función promedio \n",
    "def calcular_promedio(valores):\n",
    "    return round(sum(valores) / len(valores), 2)\n",
    "\n",
    "# Actualiza la función\n",
    "def informe_combustible(combustible_uno, combustible_dos, combustible_tres):\n",
    "    return f\"\"\"\n",
    "    Informe actualizado de combustible:\n",
    "    Primer tanque: {combustible_uno}\n",
    "    Segundo tanque: {combustible_dos}\n",
    "    Tercer tanque: {combustible_tres} \n",
    "    Promedio: {calcular_promedio([combustible_uno, combustible_dos, combustible_tres])}\n",
    "    \"\"\"\n",
    "\n",
    "print(informe_combustible(30, 20, 50))\n"
   ]
  },
  {
   "cell_type": "markdown",
   "metadata": {},
   "source": [
    "# Ejercicio 2: Trabajo con argumentos de palabra clave"
   ]
  },
  {
   "cell_type": "code",
   "execution_count": 24,
   "metadata": {},
   "outputs": [
    {
     "name": "stdout",
     "output_type": "stream",
     "text": [
      "\n",
      "    Destino de la misión: Luna\n",
      "    Tiempo hasta el destino: 1.05 hrs\n",
      "    Combustible restante: 1100\n",
      "    \n",
      "\n",
      "    Informe actualizado\n",
      "    Destino de la misión: Luna\n",
      "    Tiempo hasta el destino: 65 min\n",
      "    Combustible restante: 1100\n",
      "    \n",
      "\n",
      "    Informe actualizado con nombres de tanques\n",
      "    Destino de la misión: Luna\n",
      "    Tiempo hasta el destino: 65 min\n",
      "    Combustible restante: 1100\n",
      "    tanque_externo: 500 restante\n",
      "tanque_interno: 600 restante\n",
      "\n"
     ]
    }
   ],
   "source": [
    "# Función con un informe preciso de la misión. Considera hora de prelanzamiento, tiempo de vuelo, destino, tanque externo y tanque interno\n",
    "\n",
    "def informe_mision(hora_prelanzamiento, tiempo_vuelo, destino, tanque_externo, tanque_interno):\n",
    "    tiempo_destino = hora_prelanzamiento + tiempo_vuelo\n",
    "    hrsmin = 'min'\n",
    "    if (tiempo_destino > 60):\n",
    "        tiempo_destino = tiempo_destino / 60\n",
    "        hrsmin = 'hrs'\n",
    "    return f\"\"\"\n",
    "    Destino de la misión: {destino}\n",
    "    Tiempo hasta el destino: {tiempo_destino} {hrsmin}\n",
    "    Combustible restante: {tanque_externo + tanque_interno}\n",
    "    \"\"\"\n",
    "\n",
    "print(informe_mision(13, 50, \"Luna\", 500, 600))\n",
    "\n",
    "# Escribe tu nueva función de reporte considerando lo anterior\n",
    "\n",
    "\n",
    "def informe_mision(destino, *minutes, **fuel_reservoirs):\n",
    "    return f\"\"\"\n",
    "    Informe actualizado\n",
    "    Destino de la misión: {destino}\n",
    "    Tiempo hasta el destino: {sum(minutes)} min\n",
    "    Combustible restante: {sum(fuel_reservoirs.values())}\n",
    "    \"\"\"\n",
    "print(informe_mision(\"Luna\", 13, 52, tanque_externo = 500, tanque_interno = 600))\n",
    "\n",
    "# Escribe tu nueva función para mostrar el contenido de cada tanque\n",
    "\n",
    "def informe_mision(destino, *minutes, **fuel_reservoirs):\n",
    "    reporte_mision = f\"\"\"\n",
    "    Informe actualizado con nombres de tanques\n",
    "    Destino de la misión: {destino}\n",
    "    Tiempo hasta el destino: {sum(minutes)} min\n",
    "    Combustible restante: {sum(fuel_reservoirs.values())}\n",
    "    \"\"\"\n",
    "    for tanque, valor in fuel_reservoirs.items():\n",
    "        reporte_mision += f\"{tanque}: {valor} restante\\n\"\n",
    "    return reporte_mision\n",
    "\n",
    "print(informe_mision(\"Luna\", 13, 52, tanque_externo = 500, tanque_interno = 600))"
   ]
  }
 ],
 "metadata": {
  "interpreter": {
   "hash": "d828d267c7fdd835aaf01850e08fc97446a0d50b40bccd2ae384116f9f23e7ae"
  },
  "kernelspec": {
   "display_name": "Python 3.10.2 64-bit (windows store)",
   "language": "python",
   "name": "python3"
  },
  "language_info": {
   "codemirror_mode": {
    "name": "ipython",
    "version": 3
   },
   "file_extension": ".py",
   "mimetype": "text/x-python",
   "name": "python",
   "nbconvert_exporter": "python",
   "pygments_lexer": "ipython3",
   "version": "3.10.2"
  },
  "orig_nbformat": 4
 },
 "nbformat": 4,
 "nbformat_minor": 2
}
