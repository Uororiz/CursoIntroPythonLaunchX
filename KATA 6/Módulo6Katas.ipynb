{
 "cells": [
  {
   "cell_type": "markdown",
   "metadata": {},
   "source": [
    "# Ejercicio1: Crear y usar listas de Python"
   ]
  },
  {
   "cell_type": "code",
   "execution_count": 27,
   "metadata": {},
   "outputs": [
    {
     "name": "stdout",
     "output_type": "stream",
     "text": [
      "El número de planetas es: 8\n",
      "Los planetas son: ['Mercury', 'Venus', 'Earth', 'Mars', 'Jupiter', 'Saturn', 'Uranus', 'Neptune']\n",
      "Agregamos Plutón:  Pluto\n"
     ]
    }
   ],
   "source": [
    "# Creamos la lista de planetas\n",
    "planets = ['Mercury', 'Venus', 'Earth', 'Mars', 'Jupiter', 'Saturn', 'Uranus', 'Neptune']\n",
    "\n",
    "print('El número de planetas es: ' + str(len(planets)))\n",
    "print('Los planetas son:', planets)\n",
    "\n",
    "# Agregamos Plutón\n",
    "planets.append('Pluto')\n",
    "print('El último planeta es: ', planets[-1])"
   ]
  },
  {
   "cell_type": "markdown",
   "metadata": {},
   "source": [
    "# Ejercicio 2: Trabajando con datos de una lista"
   ]
  },
  {
   "cell_type": "code",
   "execution_count": 28,
   "metadata": {},
   "outputs": [
    {
     "name": "stdout",
     "output_type": "stream",
     "text": [
      "Planeta/s más cercanos al sol en comparación de Earth:\n",
      "['Mercury', 'Venus']\n",
      "Planeta/s más lejanos al sol en comparación de Earth:\n",
      "['Mars', 'Jupiter', 'Saturn', 'Uranus', 'Neptune']\n"
     ]
    }
   ],
   "source": [
    "# Lista de planetas\n",
    "planets = ['Mercury', 'Venus', 'Earth', 'Mars', 'Jupiter', 'Saturn', 'Uranus', 'Neptune']\n",
    "\n",
    "# Solicitamos el nombre de un planeta *Pista:  input()*\n",
    "planet = input('Ingresa el nombre de un planeta (Usa iniciales mayusculas): ')\n",
    "\n",
    "# En caso de que el usuario no introduzca el nombre con inicial mayúscula se usa la función capitalize\n",
    "planet = planet.capitalize()\n",
    "\n",
    "# Busca el planeta en la lista\n",
    "planetIndex = planets.index(planet)\n",
    "\n",
    "# Muestra los planetas más cercanos al sol\n",
    "planetClose = planets[0: planetIndex]\n",
    "if len(planetClose) == 0:\n",
    "    print('No hay ningún planeta más cercano al sol que ' + planet)\n",
    "else:\n",
    "    print('Planeta/s más cercanos al sol en comparación de ' +\n",
    "          planet + ':\\n' + str(planetClose))\n",
    "\n",
    "# Muestra los planetas más lejanos al sol\n",
    "planetAway = planets[planetIndex+1:]\n",
    "\n",
    "if len(planetAway) == 0:\n",
    "    print('No hay ningún planeta más lejano al sol que ' + planet)\n",
    "else:\n",
    "    print('Planeta/s más lejanos al sol en comparación de ' +\n",
    "          planet + ':\\n' + str(planetAway))"
   ]
  }
 ],
 "metadata": {
  "interpreter": {
   "hash": "d828d267c7fdd835aaf01850e08fc97446a0d50b40bccd2ae384116f9f23e7ae"
  },
  "kernelspec": {
   "display_name": "Python 3.10.2 64-bit (windows store)",
   "language": "python",
   "name": "python3"
  },
  "language_info": {
   "codemirror_mode": {
    "name": "ipython",
    "version": 3
   },
   "file_extension": ".py",
   "mimetype": "text/x-python",
   "name": "python",
   "nbconvert_exporter": "python",
   "pygments_lexer": "ipython3",
   "version": "3.10.2"
  },
  "orig_nbformat": 4
 },
 "nbformat": 4,
 "nbformat_minor": 2
}
