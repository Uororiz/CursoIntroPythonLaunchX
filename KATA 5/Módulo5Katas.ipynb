{
 "cells": [
  {
   "cell_type": "markdown",
   "metadata": {},
   "source": [
    "# Ejercicio1 - Utilizar operadores aritméticos"
   ]
  },
  {
   "cell_type": "code",
   "execution_count": 19,
   "metadata": {},
   "outputs": [
    {
     "name": "stdout",
     "output_type": "stream",
     "text": [
      "Distancia en km: 628949330\n",
      "Distancia en millas: 390577534\n"
     ]
    }
   ],
   "source": [
    "distanciaTierra = 149597870\n",
    "distanciaJupiter = 778547200\n",
    "\n",
    "distanciaPlanetas = abs(distanciaTierra - distanciaJupiter)\n",
    "\n",
    "print('Distancia en km: ' + str(distanciaPlanetas))\n",
    "\n",
    "distanciaPlanetas = abs(distanciaTierra - distanciaJupiter)\n",
    "print('Distancia en millas: ' + str(round(distanciaPlanetas * 0.621)))"
   ]
  },
  {
   "cell_type": "markdown",
   "metadata": {},
   "source": [
    "# Ejercicio 2: convierte cadenas en números y usa valores absolutos"
   ]
  },
  {
   "cell_type": "code",
   "execution_count": 20,
   "metadata": {},
   "outputs": [
    {
     "name": "stdout",
     "output_type": "stream",
     "text": [
      "Distancia en KM: 1000.0\n",
      "Distancia en millas: 621\n"
     ]
    }
   ],
   "source": [
    "distanciaTierra = input(\"Introduce la distancia del primer planeta con respecto al sol: \")\n",
    "distanciaJupiter = input(\"Introduce la distancia del segundo planeta con respecto al sol: \")\n",
    "distanciaPlanetas = abs(float(distanciaTierra) - float(distanciaJupiter))\n",
    "\n",
    "print('Distancia en KM: ' + str(distanciaPlanetas))\n",
    "\n",
    "distanciaPlanetasMillas = round(distanciaPlanetas * 0.621)\n",
    "print('Distancia en millas: ' + str(distanciaPlanetasMillas))"
   ]
  }
 ],
 "metadata": {
  "interpreter": {
   "hash": "d828d267c7fdd835aaf01850e08fc97446a0d50b40bccd2ae384116f9f23e7ae"
  },
  "kernelspec": {
   "display_name": "Python 3.10.2 64-bit (windows store)",
   "language": "python",
   "name": "python3"
  },
  "language_info": {
   "codemirror_mode": {
    "name": "ipython",
    "version": 3
   },
   "file_extension": ".py",
   "mimetype": "text/x-python",
   "name": "python",
   "nbconvert_exporter": "python",
   "pygments_lexer": "ipython3",
   "version": "3.10.2"
  },
  "orig_nbformat": 4
 },
 "nbformat": 4,
 "nbformat_minor": 2
}
