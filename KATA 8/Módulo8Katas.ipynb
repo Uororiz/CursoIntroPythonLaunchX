{
 "cells": [
  {
   "cell_type": "markdown",
   "metadata": {},
   "source": [
    "# Ejercicio 1: Creación de diccionarios de Python"
   ]
  },
  {
   "cell_type": "code",
   "execution_count": 4,
   "metadata": {},
   "outputs": [
    {
     "name": "stdout",
     "output_type": "stream",
     "text": [
      "Planeta: Mars\n",
      "Lunas: 2\n",
      "Planeta: Mars\n",
      "Circunferencia polar: 6752\n"
     ]
    }
   ],
   "source": [
    "# Crea un diccionario llamado planet con los datos propuestos\n",
    "planet = {\n",
    "    'name': 'Mars',\n",
    "    'moons': 2\n",
    "}\n",
    "\n",
    "# Muestra el nombre del planeta y el número de lunas que tiene.\n",
    "print(f'Planeta: {planet[\"name\"]}\\nLunas: {planet[\"moons\"]}')\n",
    "\n",
    "# Agrega la clave circunferencia con los datos proporcionados previamente\n",
    "planet['circunferencia (km)'] = {\n",
    "    'polar': 6752,\n",
    "    'equatorial': 6792\n",
    "}\n",
    "\n",
    "# Imprime el nombre del planeta con su circunferencia polar.\n",
    "print(f'Planeta: {planet[\"name\"]}\\nCircunferencia polar: {planet[\"circunferencia (km)\"][\"polar\"]}')"
   ]
  },
  {
   "cell_type": "markdown",
   "metadata": {},
   "source": [
    "# Ejercicio 2: Programación dinámica con diccionarios"
   ]
  },
  {
   "cell_type": "code",
   "execution_count": 17,
   "metadata": {},
   "outputs": [
    {
     "name": "stdout",
     "output_type": "stream",
     "text": [
      "Hay 12 planetas en el diccionario y en total hay 214 lunas, en promedio cada planeta tiene 18 lunas (17.83)\n"
     ]
    }
   ],
   "source": [
    "# Planets and moons\n",
    "\n",
    "planet_moons = {\n",
    "    'mercury': 0,\n",
    "    'venus': 0,\n",
    "    'earth': 1,\n",
    "    'mars': 2,\n",
    "    'jupiter': 79,\n",
    "    'saturn': 82,\n",
    "    'uranus': 27,\n",
    "    'neptune': 14,\n",
    "    'pluto': 5,\n",
    "    'haumea': 2,\n",
    "    'makemake': 1,\n",
    "    'eris': 1\n",
    "}\n",
    "\n",
    "# Añade el código para determinar el número de lunas.\n",
    "planets = len(planet_moons.keys())\n",
    "moons = planet_moons.values()\n",
    "total_moons = 0\n",
    "\n",
    "# Agrega el código para contar el número de lunas. \n",
    "for moon in moons:\n",
    "    total_moons += moon\n",
    "\n",
    "promedio = round(total_moons/planets, 2)\n",
    "# Finalmente calcular el promedio\n",
    "print(f'Hay {planets} planetas en el diccionario y en total hay {total_moons} lunas, en promedio cada planeta tiene {round(promedio)} lunas ({promedio})')\n"
   ]
  }
 ],
 "metadata": {
  "interpreter": {
   "hash": "d828d267c7fdd835aaf01850e08fc97446a0d50b40bccd2ae384116f9f23e7ae"
  },
  "kernelspec": {
   "display_name": "Python 3.10.2 64-bit (windows store)",
   "language": "python",
   "name": "python3"
  },
  "language_info": {
   "codemirror_mode": {
    "name": "ipython",
    "version": 3
   },
   "file_extension": ".py",
   "mimetype": "text/x-python",
   "name": "python",
   "nbconvert_exporter": "python",
   "pygments_lexer": "ipython3",
   "version": "3.10.2"
  },
  "orig_nbformat": 4
 },
 "nbformat": 4,
 "nbformat_minor": 2
}
