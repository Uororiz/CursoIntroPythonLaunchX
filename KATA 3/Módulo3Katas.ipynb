{
 "cells": [
  {
   "cell_type": "markdown",
   "metadata": {},
   "source": [
    "## Problema 1\n",
    "Mostrar una alerta de peligro cuando un asteroide viaja arriba de 25 km/s"
   ]
  },
  {
   "cell_type": "code",
   "execution_count": 26,
   "metadata": {},
   "outputs": [
    {
     "name": "stdout",
     "output_type": "stream",
     "text": [
      "¡Alerta de asteroide viajando a 100000 km/s, busquen refugio lo antes posible!\n"
     ]
    }
   ],
   "source": [
    "velocidadAsteroide = 100000\n",
    "\n",
    "if velocidadAsteroide > 25:\n",
    "    print(\"¡Alerta de asteroide viajando a \" + str(velocidadAsteroide) + \" km/s, busquen refugio lo antes posible!\")\n",
    "else:\n",
    "    print(\"Todo tranquilo por ahora\")\n"
   ]
  },
  {
   "cell_type": "markdown",
   "metadata": {},
   "source": [
    "## Problema 2\n",
    "Mostrar una alerta para buscar una luz en el cielo cuando un asteroide viaja arriba de 20 km/s"
   ]
  },
  {
   "cell_type": "code",
   "execution_count": 18,
   "metadata": {},
   "outputs": [
    {
     "name": "stdout",
     "output_type": "stream",
     "text": [
      "¡Hay un asteroide viajando a 24 km/s, busquen en el cielo un posible rayo de luz!\n"
     ]
    }
   ],
   "source": [
    "velocidadAsteroide = 24\n",
    "\n",
    "if velocidadAsteroide >= 20:\n",
    "    print(\"¡Hay un asteroide viajando a \" + str(velocidadAsteroide) + \" km/s, busquen en el cielo un posible rayo de luz!\")\n",
    "else:\n",
    "    print(\"Todo tranquilo por ahora\")\n"
   ]
  },
  {
   "cell_type": "markdown",
   "metadata": {},
   "source": [
    "## Problema 3\n",
    "Mostrar alertas con variables de velocidad y tamaño del asteroide"
   ]
  },
  {
   "cell_type": "code",
   "execution_count": 30,
   "metadata": {},
   "outputs": [
    {
     "name": "stdout",
     "output_type": "stream",
     "text": [
      "¡Hay un asteroide viajando a velocidades inquietantes (26 km/s), además de que tiene un gran tamaño (26 m), refúgiense lo antes posible!\n"
     ]
    }
   ],
   "source": [
    "velocidadAsteroide = 26\n",
    "tamanoAsteroide = 26\n",
    "\n",
    "if velocidadAsteroide > 25 and tamanoAsteroide > 25:\n",
    "    print(\"¡Hay un asteroide viajando a velocidades inquietantes (\" + str(velocidadAsteroide) +\n",
    "          \" km/s), además de que tiene un gran tamaño (\" + str(tamanoAsteroide) + \" m), refúgiense lo antes posible!\")\n",
    "elif velocidadAsteroide >= 20:\n",
    "    print(\"¡Hay un asteroide viajando a \" + str(velocidadAsteroide) +\n",
    "          \" km/s, busquen en el cielo un posible rayo de luz!\")\n",
    "elif tamanoAsteroide < 25:\n",
    "    print(\"Todo tranquilo por ahora\")\n",
    "else:\n",
    "    print(\"Todo tranquilo por ahora\")\n"
   ]
  }
 ],
 "metadata": {
  "interpreter": {
   "hash": "d828d267c7fdd835aaf01850e08fc97446a0d50b40bccd2ae384116f9f23e7ae"
  },
  "kernelspec": {
   "display_name": "Python 3.10.2 64-bit (windows store)",
   "language": "python",
   "name": "python3"
  },
  "language_info": {
   "codemirror_mode": {
    "name": "ipython",
    "version": 3
   },
   "file_extension": ".py",
   "mimetype": "text/x-python",
   "name": "python",
   "nbconvert_exporter": "python",
   "pygments_lexer": "ipython3",
   "version": "3.10.2"
  },
  "orig_nbformat": 4
 },
 "nbformat": 4,
 "nbformat_minor": 2
}
